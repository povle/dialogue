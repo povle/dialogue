{
 "cells": [
  {
   "cell_type": "code",
   "execution_count": 1,
   "metadata": {},
   "outputs": [],
   "source": [
    "import mido"
   ]
  },
  {
   "cell_type": "code",
   "execution_count": 49,
   "metadata": {},
   "outputs": [],
   "source": [
    "class MidiController:\n",
    "    def __init__(self, out_port, in_port):\n",
    "        self.notes_pressed = []\n",
    "        self.out_port = out_port\n",
    "        self.in_port = in_port\n",
    "\n",
    "    def parse_midi(self, msg):\n",
    "        if msg.type == 'clock':\n",
    "            return\n",
    "        if msg.type == 'note_on':\n",
    "            self.notes_pressed.append(msg.note)\n",
    "        elif msg.type == 'note_off':\n",
    "            if msg.note in self.notes_pressed:\n",
    "                self.notes_pressed.remove(msg.note)\n",
    "            self.out_port.send(msg)\n",
    "        if msg.type == 'note_on' or msg.type == 'note_off':\n",
    "            self.handle_notes()\n",
    "\n",
    "    def handle_notes(self):\n",
    "        if self.notes_pressed:\n",
    "            if len(self.notes_pressed) == 1:\n",
    "                self.enable_osc2(False)\n",
    "                self.start_note_normally(self.notes_pressed[-1])\n",
    "            else:\n",
    "                low_note = min(self.notes_pressed)\n",
    "                other_notes = [note for note in self.notes_pressed if note != low_note]\n",
    "                high_note = other_notes[-1]\n",
    "                self.enable_osc2(True)\n",
    "                self.prime_note_on_osc2(high_note, low_note)\n",
    "                self.start_note_normally(low_note)\n",
    "\n",
    "    def start_note_normally(self, note):\n",
    "        self.out_port.send(mido.Message('note_on', note=note, velocity=127))\n",
    "\n",
    "    def prime_note_on_osc2(self, note, main_note):\n",
    "        semitone_diff = note - main_note\n",
    "        octave_diff = 0\n",
    "\n",
    "        if abs(semitone_diff) > 12:\n",
    "            octave_diff = semitone_diff // 12\n",
    "            semitone_diff = semitone_diff % 12\n",
    "\n",
    "        if semitone_diff == 0:\n",
    "            cv = 64\n",
    "        elif semitone_diff > 0:\n",
    "            if semitone_diff == 1:\n",
    "                cv = 83\n",
    "            else:\n",
    "                cv = 83 + 4 * (semitone_diff - 1)\n",
    "        else:\n",
    "            if semitone_diff == -1:\n",
    "                cv = 44\n",
    "            else:\n",
    "                cv = 44 + 4 * (semitone_diff + 1)\n",
    "\n",
    "        self.out_port.send(mido.Message('control_change', control=35, value=cv))\n",
    "\n",
    "        octave_dict = {-1: 0, 0: 42, 1: 84, 2: 127}\n",
    "        self.out_port.send(mido.Message('control_change', control=49, value=octave_dict.get(octave_diff, 42)))\n",
    "\n",
    "    def enable_osc2(self, on: bool):\n",
    "        if on:\n",
    "            self.out_port.send(mido.Message('control_change', control=40, value=127))\n",
    "        else:\n",
    "            self.out_port.send(mido.Message('control_change', control=40, value=0))\n",
    "\n",
    "    def run(self):\n",
    "        for msg in self.in_port:\n",
    "            self.parse_midi(msg)"
   ]
  },
  {
   "cell_type": "code",
   "execution_count": 3,
   "metadata": {},
   "outputs": [],
   "source": [
    "out_port = mido.open_output('monologue SOUND')\n",
    "in_port = mido.open_input('monologue KBD/KNOB')\n"
   ]
  },
  {
   "cell_type": "code",
   "execution_count": 51,
   "metadata": {},
   "outputs": [
    {
     "ename": "KeyboardInterrupt",
     "evalue": "",
     "output_type": "error",
     "traceback": [
      "\u001b[0;31m---------------------------------------------------------------------------\u001b[0m",
      "\u001b[0;31mKeyboardInterrupt\u001b[0m                         Traceback (most recent call last)",
      "Cell \u001b[0;32mIn[51], line 2\u001b[0m\n\u001b[1;32m      1\u001b[0m controller \u001b[38;5;241m=\u001b[39m MidiController(out_port, in_port)\n\u001b[0;32m----> 2\u001b[0m \u001b[43mcontroller\u001b[49m\u001b[38;5;241;43m.\u001b[39;49m\u001b[43mrun\u001b[49m\u001b[43m(\u001b[49m\u001b[43m)\u001b[49m\n",
      "Cell \u001b[0;32mIn[49], line 68\u001b[0m, in \u001b[0;36mMidiController.run\u001b[0;34m(self)\u001b[0m\n\u001b[1;32m     67\u001b[0m \u001b[38;5;28;01mdef\u001b[39;00m \u001b[38;5;21mrun\u001b[39m(\u001b[38;5;28mself\u001b[39m):\n\u001b[0;32m---> 68\u001b[0m \u001b[43m    \u001b[49m\u001b[38;5;28;43;01mfor\u001b[39;49;00m\u001b[43m \u001b[49m\u001b[43mmsg\u001b[49m\u001b[43m \u001b[49m\u001b[38;5;129;43;01min\u001b[39;49;00m\u001b[43m \u001b[49m\u001b[38;5;28;43mself\u001b[39;49m\u001b[38;5;241;43m.\u001b[39;49m\u001b[43min_port\u001b[49m\u001b[43m:\u001b[49m\n\u001b[1;32m     69\u001b[0m \u001b[43m        \u001b[49m\u001b[38;5;28;43mself\u001b[39;49m\u001b[38;5;241;43m.\u001b[39;49m\u001b[43mparse_midi\u001b[49m\u001b[43m(\u001b[49m\u001b[43mmsg\u001b[49m\u001b[43m)\u001b[49m\n",
      "File \u001b[0;32m~/projects/paraphony/venv/lib/python3.11/site-packages/mido/ports.py:243\u001b[0m, in \u001b[0;36mBaseInput.__iter__\u001b[0;34m(self)\u001b[0m\n\u001b[1;32m    241\u001b[0m \u001b[38;5;28;01mwhile\u001b[39;00m \u001b[38;5;28;01mTrue\u001b[39;00m:\n\u001b[1;32m    242\u001b[0m     \u001b[38;5;28;01mtry\u001b[39;00m:\n\u001b[0;32m--> 243\u001b[0m         \u001b[38;5;28;01myield\u001b[39;00m \u001b[38;5;28;43mself\u001b[39;49m\u001b[38;5;241;43m.\u001b[39;49m\u001b[43mreceive\u001b[49m\u001b[43m(\u001b[49m\u001b[43m)\u001b[49m\n\u001b[1;32m    244\u001b[0m     \u001b[38;5;28;01mexcept\u001b[39;00m \u001b[38;5;167;01mOSError\u001b[39;00m:\n\u001b[1;32m    245\u001b[0m         \u001b[38;5;28;01mif\u001b[39;00m \u001b[38;5;28mself\u001b[39m\u001b[38;5;241m.\u001b[39mclosed:\n\u001b[1;32m    246\u001b[0m             \u001b[38;5;66;03m# The port closed before or inside receive().\u001b[39;00m\n\u001b[1;32m    247\u001b[0m             \u001b[38;5;66;03m# (This makes the assumption that this is the reason,\u001b[39;00m\n\u001b[1;32m    248\u001b[0m             \u001b[38;5;66;03m# at the risk of masking other errors.)\u001b[39;00m\n",
      "File \u001b[0;32m~/projects/paraphony/venv/lib/python3.11/site-packages/mido/backends/rtmidi.py:152\u001b[0m, in \u001b[0;36mInput.receive\u001b[0;34m(self, block)\u001b[0m\n\u001b[1;32m    150\u001b[0m \u001b[38;5;28;01mdef\u001b[39;00m \u001b[38;5;21mreceive\u001b[39m(\u001b[38;5;28mself\u001b[39m, block\u001b[38;5;241m=\u001b[39m\u001b[38;5;28;01mTrue\u001b[39;00m):\n\u001b[1;32m    151\u001b[0m     \u001b[38;5;28;01mif\u001b[39;00m block:\n\u001b[0;32m--> 152\u001b[0m         \u001b[38;5;28;01mreturn\u001b[39;00m \u001b[38;5;28;43mself\u001b[39;49m\u001b[38;5;241;43m.\u001b[39;49m\u001b[43m_queue\u001b[49m\u001b[38;5;241;43m.\u001b[39;49m\u001b[43mget\u001b[49m\u001b[43m(\u001b[49m\u001b[43m)\u001b[49m\n\u001b[1;32m    153\u001b[0m     \u001b[38;5;28;01melse\u001b[39;00m:\n\u001b[1;32m    154\u001b[0m         \u001b[38;5;28;01mreturn\u001b[39;00m \u001b[38;5;28mself\u001b[39m\u001b[38;5;241m.\u001b[39m_queue\u001b[38;5;241m.\u001b[39mpoll()\n",
      "File \u001b[0;32m~/projects/paraphony/venv/lib/python3.11/site-packages/mido/backends/_parser_queue.py:43\u001b[0m, in \u001b[0;36mParserQueue.get\u001b[0;34m(self)\u001b[0m\n\u001b[1;32m     42\u001b[0m \u001b[38;5;28;01mdef\u001b[39;00m \u001b[38;5;21mget\u001b[39m(\u001b[38;5;28mself\u001b[39m):\n\u001b[0;32m---> 43\u001b[0m     \u001b[38;5;28;01mreturn\u001b[39;00m \u001b[38;5;28;43mself\u001b[39;49m\u001b[38;5;241;43m.\u001b[39;49m\u001b[43m_queue\u001b[49m\u001b[38;5;241;43m.\u001b[39;49m\u001b[43mget\u001b[49m\u001b[43m(\u001b[49m\u001b[43m)\u001b[49m\n",
      "File \u001b[0;32m/usr/local/Cellar/python@3.11/3.11.6/Frameworks/Python.framework/Versions/3.11/lib/python3.11/queue.py:171\u001b[0m, in \u001b[0;36mQueue.get\u001b[0;34m(self, block, timeout)\u001b[0m\n\u001b[1;32m    169\u001b[0m \u001b[38;5;28;01melif\u001b[39;00m timeout \u001b[38;5;129;01mis\u001b[39;00m \u001b[38;5;28;01mNone\u001b[39;00m:\n\u001b[1;32m    170\u001b[0m     \u001b[38;5;28;01mwhile\u001b[39;00m \u001b[38;5;129;01mnot\u001b[39;00m \u001b[38;5;28mself\u001b[39m\u001b[38;5;241m.\u001b[39m_qsize():\n\u001b[0;32m--> 171\u001b[0m         \u001b[38;5;28;43mself\u001b[39;49m\u001b[38;5;241;43m.\u001b[39;49m\u001b[43mnot_empty\u001b[49m\u001b[38;5;241;43m.\u001b[39;49m\u001b[43mwait\u001b[49m\u001b[43m(\u001b[49m\u001b[43m)\u001b[49m\n\u001b[1;32m    172\u001b[0m \u001b[38;5;28;01melif\u001b[39;00m timeout \u001b[38;5;241m<\u001b[39m \u001b[38;5;241m0\u001b[39m:\n\u001b[1;32m    173\u001b[0m     \u001b[38;5;28;01mraise\u001b[39;00m \u001b[38;5;167;01mValueError\u001b[39;00m(\u001b[38;5;124m\"\u001b[39m\u001b[38;5;124m'\u001b[39m\u001b[38;5;124mtimeout\u001b[39m\u001b[38;5;124m'\u001b[39m\u001b[38;5;124m must be a non-negative number\u001b[39m\u001b[38;5;124m\"\u001b[39m)\n",
      "File \u001b[0;32m/usr/local/Cellar/python@3.11/3.11.6/Frameworks/Python.framework/Versions/3.11/lib/python3.11/threading.py:327\u001b[0m, in \u001b[0;36mCondition.wait\u001b[0;34m(self, timeout)\u001b[0m\n\u001b[1;32m    325\u001b[0m \u001b[38;5;28;01mtry\u001b[39;00m:    \u001b[38;5;66;03m# restore state no matter what (e.g., KeyboardInterrupt)\u001b[39;00m\n\u001b[1;32m    326\u001b[0m     \u001b[38;5;28;01mif\u001b[39;00m timeout \u001b[38;5;129;01mis\u001b[39;00m \u001b[38;5;28;01mNone\u001b[39;00m:\n\u001b[0;32m--> 327\u001b[0m         \u001b[43mwaiter\u001b[49m\u001b[38;5;241;43m.\u001b[39;49m\u001b[43macquire\u001b[49m\u001b[43m(\u001b[49m\u001b[43m)\u001b[49m\n\u001b[1;32m    328\u001b[0m         gotit \u001b[38;5;241m=\u001b[39m \u001b[38;5;28;01mTrue\u001b[39;00m\n\u001b[1;32m    329\u001b[0m     \u001b[38;5;28;01melse\u001b[39;00m:\n",
      "\u001b[0;31mKeyboardInterrupt\u001b[0m: "
     ]
    }
   ],
   "source": [
    "controller = MidiController(out_port, in_port)\n",
    "controller.run()"
   ]
  }
 ],
 "metadata": {
  "kernelspec": {
   "display_name": "venv",
   "language": "python",
   "name": "python3"
  },
  "language_info": {
   "codemirror_mode": {
    "name": "ipython",
    "version": 3
   },
   "file_extension": ".py",
   "mimetype": "text/x-python",
   "name": "python",
   "nbconvert_exporter": "python",
   "pygments_lexer": "ipython3",
   "version": "3.11.6"
  }
 },
 "nbformat": 4,
 "nbformat_minor": 2
}
